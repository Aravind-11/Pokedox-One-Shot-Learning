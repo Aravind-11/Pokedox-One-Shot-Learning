{
 "cells": [
  {
   "cell_type": "code",
   "execution_count": 2,
   "metadata": {
    "tags": []
   },
   "outputs": [
    {
     "name": "stdout",
     "output_type": "stream",
     "text": [
      "Collecting opencv-python\n",
      "  Downloading opencv_python-4.5.2.54-cp38-cp38-macosx_10_15_x86_64.whl (43.7 MB)\n",
      "\u001b[K     |████████████████████████████████| 43.7 MB 2.9 MB/s eta 0:00:01\n",
      "\u001b[?25hRequirement already satisfied: numpy>=1.17.3 in /Users/arvt/opt/anaconda3/lib/python3.8/site-packages (from opencv-python) (1.19.5)\n",
      "Installing collected packages: opencv-python\n",
      "Successfully installed opencv-python-4.5.2.54\n",
      "Note: you may need to restart the kernel to use updated packages.\n"
     ]
    }
   ],
   "source": [
    "pip install opencv-python"
   ]
  },
  {
   "cell_type": "code",
   "execution_count": 1,
   "metadata": {},
   "outputs": [],
   "source": [
    "import cv2\n",
    "from skimage.exposure import rescale_intensity\n",
    "from skimage.segmentation import slic\n",
    "from skimage.util import img_as_float\n",
    "from skimage import io\n",
    "import numpy as np\n",
    "import os"
   ]
  },
  {
   "cell_type": "code",
   "execution_count": 2,
   "metadata": {},
   "outputs": [],
   "source": [
    "Folder_name=\"augmented_image\""
   ]
  },
  {
   "cell_type": "code",
   "execution_count": 16,
   "metadata": {},
   "outputs": [],
   "source": [
    "def resize_image(image,w,h):\n",
    "    image=cv2.resize(image,(w,h))\n",
    "    #cv2.imwrite(Folder_name+\"/Resize-\"+str(w)+\"*\"+str(h)+Extension, image)\n",
    "    return image\n",
    "#crop\n",
    "def crop_image(image,y1,y2,x1,x2):\n",
    "    image=image[y1:y2,x1:x2]\n",
    "    #cv2.imwrite(Folder_name+\"/Crop-\"+str(x1)+str(x2)+\"*\"+str(y1)+str(y2)+Extension, image)\n",
    "    return image\n",
    "def padding_image(image,topBorder,bottomBorder,leftBorder,rightBorder,color_of_border=[0,0,0]):\n",
    "    image = cv2.copyMakeBorder(image,topBorder,bottomBorder,leftBorder,\n",
    "        rightBorder,cv2.BORDER_CONSTANT,value=color_of_border)\n",
    "    #cv2.imwrite(Folder_name + \"/padd-\" + str(topBorder) + str(bottomBorder) + \"*\" + str(leftBorder) + str(rightBorder) + Extension, image)\n",
    "    return image\n",
    "def flip_image(image,dir):\n",
    "    image = cv2.flip(image, dir)\n",
    "    #cv2.imwrite(Folder_name + \"/flip-\" + str(dir)+Extension, image)\n",
    "    return image\n",
    "def superpixel_image(image,segments):\n",
    "    seg=segments\n",
    "\n",
    "    def segment_colorfulness(image, mask):\n",
    "        # split the image into its respective RGB components, then mask\n",
    "        # each of the individual RGB channels so we can compute\n",
    "        # statistics only for the masked region\n",
    "        (B, G, R) = cv2.split(image.astype(\"float\"))\n",
    "        R = np.ma.masked_array(R, mask=mask)\n",
    "        G = np.ma.masked_array(B, mask=mask)\n",
    "        B = np.ma.masked_array(B, mask=mask)\n",
    "\n",
    "        # compute rg = R - G\n",
    "        rg = np.absolute(R - G)\n",
    "\n",
    "        # compute yb = 0.5 * (R + G) - B\n",
    "        yb = np.absolute(0.5 * (R + G) - B)\n",
    "\n",
    "        # compute the mean and standard deviation of both `rg` and `yb`,\n",
    "        # then combine them\n",
    "        stdRoot = np.sqrt((rg.std() ** 2) + (yb.std() ** 2))\n",
    "        meanRoot = np.sqrt((rg.mean() ** 2) + (yb.mean() ** 2))\n",
    "\n",
    "        # derive the \"colorfulness\" metric and return it\n",
    "        return stdRoot + (0.3 * meanRoot)\n",
    "\n",
    "    orig = cv2.imread(image)\n",
    "    vis = np.zeros(orig.shape[:2], dtype=\"float\")\n",
    "\n",
    "    # load the image and apply SLIC superpixel segmentation to it via\n",
    "    # scikit-image\n",
    "    image = io.imread(image)\n",
    "    segments = slic(img_as_float(image), n_segments=segments,\n",
    "                    slic_zero=True)\n",
    "    for v in np.unique(segments):\n",
    "        # construct a mask for the segment so we can compute image\n",
    "        # statistics for *only* the masked region\n",
    "        mask = np.ones(image.shape[:2])\n",
    "        mask[segments == v] = 0\n",
    "\n",
    "        # compute the superpixel colorfulness, then update the\n",
    "        # visualization array\n",
    "        C = segment_colorfulness(orig, mask)\n",
    "        vis[segments == v] = C\n",
    "    # scale the visualization image from an unrestricted floating point\n",
    "    # to unsigned 8-bit integer array so we can use it with OpenCV and\n",
    "    # display it to our screen\n",
    "    vis = rescale_intensity(vis, out_range=(0, 255)).astype(\"uint8\")\n",
    "\n",
    "    # overlay the superpixel colorfulness visualization on the original\n",
    "    # image\n",
    "    alpha = 0.6\n",
    "    overlay = np.dstack([vis] * 3)\n",
    "    output = orig.copy()\n",
    "    cv2.addWeighted(overlay, alpha, output, 1 - alpha, 0, output)\n",
    "    # cv2.imshow(\"Visualization\", vis)\n",
    "    #cv2.imwrite(Folder_name + \"/superpixels-\" + str(seg) + Extension, output)\n",
    "    return image\n",
    "def invert_image(image,channel):\n",
    "    # image=cv2.bitwise_not(image)\n",
    "    image=(channel-image)\n",
    "    #cv2.imwrite(Folder_name + \"/invert-\"+str(channel)+Extension, image)\n",
    "    return image\n",
    "def add_light(image, gamma=1.0):\n",
    "    invGamma = 1.0 / gamma\n",
    "    table = np.array([((i / 255.0) ** invGamma) * 255\n",
    "                      for i in np.arange(0, 256)]).astype(\"uint8\")\n",
    "\n",
    "    image=cv2.LUT(image, table)\n",
    "    \n",
    "    return image\n",
    "def add_light_color(image, color, gamma=1.0):\n",
    "    invGamma = 1.0 / gamma\n",
    "    image = (color - image)\n",
    "    table = np.array([((i / 255.0) ** invGamma) * 255\n",
    "                      for i in np.arange(0, 256)]).astype(\"uint8\")\n",
    "\n",
    "    image=cv2.LUT(image, table)\n",
    "    return image\n",
    "def saturation_image(image,saturation):\n",
    "    image = cv2.cvtColor(image, cv2.COLOR_BGR2HSV)\n",
    "\n",
    "    v = image[:, :, 2]\n",
    "    v = np.where(v <= 255 - saturation, v + saturation, 255)\n",
    "    image[:, :, 2] = v\n",
    "\n",
    "    image = cv2.cvtColor(image, cv2.COLOR_HSV2BGR)\n",
    "    return image \n",
    "def hue_image(image,saturation):\n",
    "    image = cv2.cvtColor(image, cv2.COLOR_BGR2HSV)\n",
    "\n",
    "    v = image[:, :, 2]\n",
    "    v = np.where(v <= 255 + saturation, v - saturation, 255)\n",
    "    image[:, :, 2] = v\n",
    "\n",
    "    image = cv2.cvtColor(image, cv2.COLOR_HSV2BGR)\n",
    "    return image "
   ]
  },
  {
   "cell_type": "code",
   "execution_count": null,
   "metadata": {},
   "outputs": [],
   "source": []
  },
  {
   "cell_type": "code",
   "execution_count": 24,
   "metadata": {},
   "outputs": [
    {
     "name": "stdout",
     "output_type": "stream",
     "text": [
      "/Users/arvt/pokedox\n"
     ]
    }
   ],
   "source": [
    "PATH = os.getcwd()\n",
    "print(PATH)\n",
    "data_path = PATH + '/new data'\n",
    "data_dir_list = os.listdir(data_path)\n",
    "p=os.path.join(PATH,\"aug_data_6\")\n",
    "#os.mkdir(p)\n",
    "\n",
    "img_rows = 128\n",
    "img_cols = 128\n",
    "num_channel = 1\n",
    "\n",
    "img_data_list = []\n",
    "i=0\n",
    "for dataset in data_dir_list:\n",
    "    if(dataset=='.ipynb_checkpoints'):\n",
    "        continue\n",
    "    \n",
    "    image = cv2.imread(data_path + '/' + dataset)\n",
    "    #print(image)\n",
    "    #superpixel_image(image,100)\n",
    "    #image=resize_image(image,70,70)\n",
    "    #image=crop_image(image,10,10,0,10)\n",
    "    image=padding_image(image,100,0,0,0)\n",
    "    image=flip_image(image,0)\n",
    "    image=invert_image(image,255)\n",
    "    image=hue_image(image,15)\n",
    "    image=add_light_color(image,255,1.5)\n",
    "    image=saturation_image(image,60)\n",
    "    cv2.imwrite(p+'/'+dataset,image)"
   ]
  },
  {
   "cell_type": "code",
   "execution_count": 45,
   "metadata": {},
   "outputs": [
    {
     "data": {
      "text/plain": [
       "'184.jpg'"
      ]
     },
     "execution_count": 45,
     "metadata": {},
     "output_type": "execute_result"
    }
   ],
   "source": [
    "dataset"
   ]
  },
  {
   "cell_type": "code",
   "execution_count": 43,
   "metadata": {},
   "outputs": [
    {
     "data": {
      "text/plain": [
       "'.ipynb_checkpoints'"
      ]
     },
     "execution_count": 43,
     "metadata": {},
     "output_type": "execute_result"
    }
   ],
   "source": [
    "data_dir_list[600]"
   ]
  },
  {
   "cell_type": "code",
   "execution_count": null,
   "metadata": {},
   "outputs": [],
   "source": [
    "data_dir_list"
   ]
  },
  {
   "cell_type": "code",
   "execution_count": 29,
   "metadata": {},
   "outputs": [
    {
     "name": "stdout",
     "output_type": "stream",
     "text": [
      "None\n"
     ]
    }
   ],
   "source": [
    "print(image)"
   ]
  },
  {
   "cell_type": "code",
   "execution_count": 14,
   "metadata": {},
   "outputs": [
    {
     "data": {
      "text/plain": [
       "'data_path/dataset'"
      ]
     },
     "execution_count": 14,
     "metadata": {},
     "output_type": "execute_result"
    }
   ],
   "source": []
  },
  {
   "cell_type": "code",
   "execution_count": 6,
   "metadata": {},
   "outputs": [],
   "source": [
    "import os \n"
   ]
  },
  {
   "cell_type": "code",
   "execution_count": null,
   "metadata": {},
   "outputs": [],
   "source": []
  }
 ],
 "metadata": {
  "kernelspec": {
   "display_name": "Python 3",
   "language": "python",
   "name": "python3"
  },
  "language_info": {
   "codemirror_mode": {
    "name": "ipython",
    "version": 3
   },
   "file_extension": ".py",
   "mimetype": "text/x-python",
   "name": "python",
   "nbconvert_exporter": "python",
   "pygments_lexer": "ipython3",
   "version": "3.8.8"
  }
 },
 "nbformat": 4,
 "nbformat_minor": 4
}
